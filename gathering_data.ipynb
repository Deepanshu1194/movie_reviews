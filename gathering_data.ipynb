{
 "cells": [
  {
   "cell_type": "code",
   "execution_count": 1,
   "id": "86fec2dd",
   "metadata": {
    "ExecuteTime": {
     "end_time": "2022-12-07T22:06:50.294398Z",
     "start_time": "2022-12-07T22:06:48.858289Z"
    }
   },
   "outputs": [],
   "source": [
    "# importing pandas\n",
    "import pandas as pd"
   ]
  },
  {
   "cell_type": "code",
   "execution_count": 2,
   "id": "135c766e",
   "metadata": {
    "ExecuteTime": {
     "end_time": "2022-12-07T22:06:50.324249Z",
     "start_time": "2022-12-07T22:06:50.295456Z"
    }
   },
   "outputs": [
    {
     "data": {
      "text/html": [
       "<div>\n",
       "<style scoped>\n",
       "    .dataframe tbody tr th:only-of-type {\n",
       "        vertical-align: middle;\n",
       "    }\n",
       "\n",
       "    .dataframe tbody tr th {\n",
       "        vertical-align: top;\n",
       "    }\n",
       "\n",
       "    .dataframe thead th {\n",
       "        text-align: right;\n",
       "    }\n",
       "</style>\n",
       "<table border=\"1\" class=\"dataframe\">\n",
       "  <thead>\n",
       "    <tr style=\"text-align: right;\">\n",
       "      <th></th>\n",
       "      <th>ranking</th>\n",
       "      <th>critic_score</th>\n",
       "      <th>title</th>\n",
       "      <th>number_of_critic_ratings</th>\n",
       "    </tr>\n",
       "  </thead>\n",
       "  <tbody>\n",
       "    <tr>\n",
       "      <th>0</th>\n",
       "      <td>1</td>\n",
       "      <td>99</td>\n",
       "      <td>The Wizard of Oz (1939)</td>\n",
       "      <td>110</td>\n",
       "    </tr>\n",
       "    <tr>\n",
       "      <th>1</th>\n",
       "      <td>2</td>\n",
       "      <td>100</td>\n",
       "      <td>Citizen Kane (1941)</td>\n",
       "      <td>75</td>\n",
       "    </tr>\n",
       "    <tr>\n",
       "      <th>2</th>\n",
       "      <td>3</td>\n",
       "      <td>100</td>\n",
       "      <td>The Third Man (1949)</td>\n",
       "      <td>77</td>\n",
       "    </tr>\n",
       "    <tr>\n",
       "      <th>3</th>\n",
       "      <td>4</td>\n",
       "      <td>99</td>\n",
       "      <td>Get Out (2017)</td>\n",
       "      <td>282</td>\n",
       "    </tr>\n",
       "    <tr>\n",
       "      <th>4</th>\n",
       "      <td>5</td>\n",
       "      <td>97</td>\n",
       "      <td>Mad Max: Fury Road (2015)</td>\n",
       "      <td>370</td>\n",
       "    </tr>\n",
       "    <tr>\n",
       "      <th>...</th>\n",
       "      <td>...</td>\n",
       "      <td>...</td>\n",
       "      <td>...</td>\n",
       "      <td>...</td>\n",
       "    </tr>\n",
       "    <tr>\n",
       "      <th>95</th>\n",
       "      <td>96</td>\n",
       "      <td>100</td>\n",
       "      <td>Man on Wire (2008)</td>\n",
       "      <td>156</td>\n",
       "    </tr>\n",
       "    <tr>\n",
       "      <th>96</th>\n",
       "      <td>97</td>\n",
       "      <td>97</td>\n",
       "      <td>Jaws (1975)</td>\n",
       "      <td>74</td>\n",
       "    </tr>\n",
       "    <tr>\n",
       "      <th>97</th>\n",
       "      <td>98</td>\n",
       "      <td>100</td>\n",
       "      <td>Toy Story (1995)</td>\n",
       "      <td>78</td>\n",
       "    </tr>\n",
       "    <tr>\n",
       "      <th>98</th>\n",
       "      <td>99</td>\n",
       "      <td>97</td>\n",
       "      <td>The Godfather, Part II (1974)</td>\n",
       "      <td>72</td>\n",
       "    </tr>\n",
       "    <tr>\n",
       "      <th>99</th>\n",
       "      <td>100</td>\n",
       "      <td>100</td>\n",
       "      <td>Battleship Potemkin (1925)</td>\n",
       "      <td>45</td>\n",
       "    </tr>\n",
       "  </tbody>\n",
       "</table>\n",
       "<p>100 rows × 4 columns</p>\n",
       "</div>"
      ],
      "text/plain": [
       "    ranking  critic_score                          title  \\\n",
       "0         1            99        The Wizard of Oz (1939)   \n",
       "1         2           100            Citizen Kane (1941)   \n",
       "2         3           100           The Third Man (1949)   \n",
       "3         4            99                 Get Out (2017)   \n",
       "4         5            97      Mad Max: Fury Road (2015)   \n",
       "..      ...           ...                            ...   \n",
       "95       96           100             Man on Wire (2008)   \n",
       "96       97            97                    Jaws (1975)   \n",
       "97       98           100               Toy Story (1995)   \n",
       "98       99            97  The Godfather, Part II (1974)   \n",
       "99      100           100     Battleship Potemkin (1925)   \n",
       "\n",
       "    number_of_critic_ratings  \n",
       "0                        110  \n",
       "1                         75  \n",
       "2                         77  \n",
       "3                        282  \n",
       "4                        370  \n",
       "..                       ...  \n",
       "95                       156  \n",
       "96                        74  \n",
       "97                        78  \n",
       "98                        72  \n",
       "99                        45  \n",
       "\n",
       "[100 rows x 4 columns]"
      ]
     },
     "execution_count": 2,
     "metadata": {},
     "output_type": "execute_result"
    }
   ],
   "source": [
    "# loading .tsv file using read_csv as it can parche all flat files\n",
    "df = pd.read_csv('bestofrt.tsv', sep='\\t')\n",
    "df"
   ]
  },
  {
   "cell_type": "markdown",
   "id": "5b53019c",
   "metadata": {},
   "source": [
    "## Scrapping Movie title from rotten tomatoes website"
   ]
  },
  {
   "cell_type": "markdown",
   "id": "8232a3d7",
   "metadata": {},
   "source": [
    "- import the libraries\n",
    "- Make a list of empty dictonary to make a data frame later \n"
   ]
  },
  {
   "cell_type": "code",
   "execution_count": 3,
   "id": "99a984d7",
   "metadata": {
    "ExecuteTime": {
     "end_time": "2022-12-07T22:06:50.494832Z",
     "start_time": "2022-12-07T22:06:50.325249Z"
    }
   },
   "outputs": [],
   "source": [
    "import os\n",
    "from bs4 import BeautifulSoup"
   ]
  },
  {
   "cell_type": "code",
   "execution_count": 4,
   "id": "609bfc5e",
   "metadata": {
    "ExecuteTime": {
     "end_time": "2022-12-07T22:07:13.753528Z",
     "start_time": "2022-12-07T22:06:50.495828Z"
    }
   },
   "outputs": [],
   "source": [
    "# Empty list of dictonary\n",
    "df_list = []\n",
    "folder = \"rt_html\"\n",
    "for movie_html in os.listdir(folder):\n",
    "    with open(os.path.join(folder, movie_html)) as file:\n",
    "        soup = BeautifulSoup(file, \"lxml\")\n",
    "        # Extract the movie title, audience score, number of audience ratings\n",
    "        title = soup.find(\"title\").contents[0][: -len(\" - Rotten Tomatoes\")]\n",
    "        audience_score = soup.find(\"div\", class_=\"audience-score meter\").find(\"span\").contents[0][:-1]\n",
    "        num_audience_ratings = soup.find(\"div\", class_=\"audience-info hidden-xs superPageFontColor\")\n",
    "        num_audience_ratings = num_audience_ratings.find_all(\"div\")[1].contents[2].strip().replace(\",\", \"\")\n",
    "        \n",
    "        # Append to the list of dictonary\n",
    "        df_list.append({'title': title,\n",
    "                        'audience_score': int(audience_score),\n",
    "                        'number_of_audience_ratings': int(num_audience_ratings)})\n",
    "df = pd.DataFrame(df_list, columns = ['title', 'audience_score', 'number_of_audience_ratings'])"
   ]
  },
  {
   "cell_type": "markdown",
   "id": "0b9c005a",
   "metadata": {},
   "source": [
    "## Test"
   ]
  },
  {
   "cell_type": "code",
   "execution_count": 5,
   "id": "b97e2ba6",
   "metadata": {
    "ExecuteTime": {
     "end_time": "2022-12-07T22:07:13.769537Z",
     "start_time": "2022-12-07T22:07:13.754567Z"
    }
   },
   "outputs": [
    {
     "data": {
      "text/html": [
       "<div>\n",
       "<style scoped>\n",
       "    .dataframe tbody tr th:only-of-type {\n",
       "        vertical-align: middle;\n",
       "    }\n",
       "\n",
       "    .dataframe tbody tr th {\n",
       "        vertical-align: top;\n",
       "    }\n",
       "\n",
       "    .dataframe thead th {\n",
       "        text-align: right;\n",
       "    }\n",
       "</style>\n",
       "<table border=\"1\" class=\"dataframe\">\n",
       "  <thead>\n",
       "    <tr style=\"text-align: right;\">\n",
       "      <th></th>\n",
       "      <th>title</th>\n",
       "      <th>audience_score</th>\n",
       "      <th>number_of_audience_ratings</th>\n",
       "    </tr>\n",
       "  </thead>\n",
       "  <tbody>\n",
       "    <tr>\n",
       "      <th>0</th>\n",
       "      <td>12 Angry Men (Twelve Angry Men) (1957)</td>\n",
       "      <td>97</td>\n",
       "      <td>103672</td>\n",
       "    </tr>\n",
       "    <tr>\n",
       "      <th>1</th>\n",
       "      <td>The 39 Steps (1935)</td>\n",
       "      <td>86</td>\n",
       "      <td>23647</td>\n",
       "    </tr>\n",
       "    <tr>\n",
       "      <th>2</th>\n",
       "      <td>The Adventures of Robin Hood (1938)</td>\n",
       "      <td>89</td>\n",
       "      <td>33584</td>\n",
       "    </tr>\n",
       "    <tr>\n",
       "      <th>3</th>\n",
       "      <td>All About Eve (1950)</td>\n",
       "      <td>94</td>\n",
       "      <td>44564</td>\n",
       "    </tr>\n",
       "    <tr>\n",
       "      <th>4</th>\n",
       "      <td>All Quiet on the Western Front (1930)</td>\n",
       "      <td>89</td>\n",
       "      <td>17768</td>\n",
       "    </tr>\n",
       "    <tr>\n",
       "      <th>...</th>\n",
       "      <td>...</td>\n",
       "      <td>...</td>\n",
       "      <td>...</td>\n",
       "    </tr>\n",
       "    <tr>\n",
       "      <th>95</th>\n",
       "      <td>Up (2009)</td>\n",
       "      <td>90</td>\n",
       "      <td>1201878</td>\n",
       "    </tr>\n",
       "    <tr>\n",
       "      <th>96</th>\n",
       "      <td>Vertigo (1958)</td>\n",
       "      <td>93</td>\n",
       "      <td>101454</td>\n",
       "    </tr>\n",
       "    <tr>\n",
       "      <th>97</th>\n",
       "      <td>The Wages of Fear (1953)</td>\n",
       "      <td>95</td>\n",
       "      <td>8536</td>\n",
       "    </tr>\n",
       "    <tr>\n",
       "      <th>98</th>\n",
       "      <td>Wonder Woman (2017)</td>\n",
       "      <td>90</td>\n",
       "      <td>112955</td>\n",
       "    </tr>\n",
       "    <tr>\n",
       "      <th>99</th>\n",
       "      <td>Zootopia (2016)</td>\n",
       "      <td>92</td>\n",
       "      <td>98633</td>\n",
       "    </tr>\n",
       "  </tbody>\n",
       "</table>\n",
       "<p>100 rows × 3 columns</p>\n",
       "</div>"
      ],
      "text/plain": [
       "                                     title  audience_score  \\\n",
       "0   12 Angry Men (Twelve Angry Men) (1957)              97   \n",
       "1                      The 39 Steps (1935)              86   \n",
       "2      The Adventures of Robin Hood (1938)              89   \n",
       "3                     All About Eve (1950)              94   \n",
       "4    All Quiet on the Western Front (1930)              89   \n",
       "..                                     ...             ...   \n",
       "95                               Up (2009)              90   \n",
       "96                          Vertigo (1958)              93   \n",
       "97                The Wages of Fear (1953)              95   \n",
       "98                     Wonder Woman (2017)              90   \n",
       "99                         Zootopia (2016)              92   \n",
       "\n",
       "    number_of_audience_ratings  \n",
       "0                       103672  \n",
       "1                        23647  \n",
       "2                        33584  \n",
       "3                        44564  \n",
       "4                        17768  \n",
       "..                         ...  \n",
       "95                     1201878  \n",
       "96                      101454  \n",
       "97                        8536  \n",
       "98                      112955  \n",
       "99                       98633  \n",
       "\n",
       "[100 rows x 3 columns]"
      ]
     },
     "execution_count": 5,
     "metadata": {},
     "output_type": "execute_result"
    }
   ],
   "source": [
    "df"
   ]
  },
  {
   "cell_type": "markdown",
   "id": "0fd756f9",
   "metadata": {
    "ExecuteTime": {
     "end_time": "2022-12-06T22:41:20.169524Z",
     "start_time": "2022-12-06T22:41:20.118525Z"
    }
   },
   "source": [
    "## Programatically downloading files"
   ]
  },
  {
   "cell_type": "markdown",
   "id": "4f4a8d01",
   "metadata": {},
   "source": [
    "#### Import Requests\n",
    "#### Create folder using os module of python\n",
    "#### Create requests\n",
    "#### Access content and write to a file"
   ]
  },
  {
   "cell_type": "code",
   "execution_count": 6,
   "id": "78e2cbcc",
   "metadata": {
    "ExecuteTime": {
     "end_time": "2022-12-07T22:07:13.846946Z",
     "start_time": "2022-12-07T22:07:13.771534Z"
    }
   },
   "outputs": [],
   "source": [
    "import requests \n",
    "import os"
   ]
  },
  {
   "cell_type": "code",
   "execution_count": 7,
   "id": "af66ef55",
   "metadata": {
    "ExecuteTime": {
     "end_time": "2022-12-07T22:07:13.862238Z",
     "start_time": "2022-12-07T22:07:13.847952Z"
    }
   },
   "outputs": [],
   "source": [
    "# Make directory if it doesn't exist\n",
    "new_folder = \"ebert_reviews\"\n",
    "if not os.path.exists(new_folder):\n",
    "    os.makedirs(new_folder)\n"
   ]
  },
  {
   "cell_type": "code",
   "execution_count": 8,
   "id": "ea00bc58",
   "metadata": {
    "ExecuteTime": {
     "end_time": "2022-12-07T22:07:13.878255Z",
     "start_time": "2022-12-07T22:07:13.863243Z"
    }
   },
   "outputs": [],
   "source": [
    "# Create requests\n",
    "ebert_review_urls = ['https://d17h27t6h515a5.cloudfront.net/topher/2017/September/59ad9900_1-the-wizard-of-oz-1939-film/1-the-wizard-of-oz-1939-film.txt',\n",
    "                     'https://d17h27t6h515a5.cloudfront.net/topher/2017/September/59ad9901_2-citizen-kane/2-citizen-kane.txt',\n",
    "                     'https://d17h27t6h515a5.cloudfront.net/topher/2017/September/59ad9901_3-the-third-man/3-the-third-man.txt',\n",
    "                     'https://d17h27t6h515a5.cloudfront.net/topher/2017/September/59ad9902_4-get-out-film/4-get-out-film.txt',\n",
    "                     'https://d17h27t6h515a5.cloudfront.net/topher/2017/September/59ad9902_5-mad-max-fury-road/5-mad-max-fury-road.txt',\n",
    "                     'https://d17h27t6h515a5.cloudfront.net/topher/2017/September/59ad9902_6-the-cabinet-of-dr.-caligari/6-the-cabinet-of-dr.-caligari.txt',\n",
    "                     'https://d17h27t6h515a5.cloudfront.net/topher/2017/September/59ad9903_7-all-about-eve/7-all-about-eve.txt',\n",
    "                     'https://d17h27t6h515a5.cloudfront.net/topher/2017/September/59ad9903_8-inside-out-2015-film/8-inside-out-2015-film.txt',\n",
    "                     'https://d17h27t6h515a5.cloudfront.net/topher/2017/September/59ad9903_9-the-godfather/9-the-godfather.txt',\n",
    "                     'https://d17h27t6h515a5.cloudfront.net/topher/2017/September/59ad9904_10-metropolis-1927-film/10-metropolis-1927-film.txt',\n",
    "                     'https://d17h27t6h515a5.cloudfront.net/topher/2017/September/59ad9904_11-e.t.-the-extra-terrestrial/11-e.t.-the-extra-terrestrial.txt',\n",
    "                     'https://d17h27t6h515a5.cloudfront.net/topher/2017/September/59ad9904_12-modern-times-film/12-modern-times-film.txt',\n",
    "                     'https://d17h27t6h515a5.cloudfront.net/topher/2017/September/59ad9904_14-singin-in-the-rain/14-singin-in-the-rain.txt',\n",
    "                     'https://d17h27t6h515a5.cloudfront.net/topher/2017/September/59ad9905_15-boyhood-film/15-boyhood-film.txt',\n",
    "                     'https://d17h27t6h515a5.cloudfront.net/topher/2017/September/59ad9905_16-casablanca-film/16-casablanca-film.txt',\n",
    "                     'https://d17h27t6h515a5.cloudfront.net/topher/2017/September/59ad9905_17-moonlight-2016-film/17-moonlight-2016-film.txt',\n",
    "                     'https://d17h27t6h515a5.cloudfront.net/topher/2017/September/59ad9906_18-psycho-1960-film/18-psycho-1960-film.txt',\n",
    "                     'https://d17h27t6h515a5.cloudfront.net/topher/2017/September/59ad9906_19-laura-1944-film/19-laura-1944-film.txt',\n",
    "                     'https://d17h27t6h515a5.cloudfront.net/topher/2017/September/59ad9906_20-nosferatu/20-nosferatu.txt',\n",
    "                     'https://d17h27t6h515a5.cloudfront.net/topher/2017/September/59ad9907_21-snow-white-and-the-seven-dwarfs-1937-film/21-snow-white-and-the-seven-dwarfs-1937-film.txt',\n",
    "                     'https://d17h27t6h515a5.cloudfront.net/topher/2017/September/59ad9907_22-a-hard-day27s-night-film/22-a-hard-day27s-night-film.txt',\n",
    "                     'https://d17h27t6h515a5.cloudfront.net/topher/2017/September/59ad9907_23-la-grande-illusion/23-la-grande-illusion.txt',\n",
    "                     'https://d17h27t6h515a5.cloudfront.net/topher/2017/September/59ad9908_25-the-battle-of-algiers/25-the-battle-of-algiers.txt',\n",
    "                     'https://d17h27t6h515a5.cloudfront.net/topher/2017/September/59ad9908_26-dunkirk-2017-film/26-dunkirk-2017-film.txt',\n",
    "                     'https://d17h27t6h515a5.cloudfront.net/topher/2017/September/59ad9908_27-the-maltese-falcon-1941-film/27-the-maltese-falcon-1941-film.txt',\n",
    "                     'https://d17h27t6h515a5.cloudfront.net/topher/2017/September/59ad9909_29-12-years-a-slave-film/29-12-years-a-slave-film.txt',\n",
    "                     'https://d17h27t6h515a5.cloudfront.net/topher/2017/September/59ad9909_30-gravity-2013-film/30-gravity-2013-film.txt',\n",
    "                     'https://d17h27t6h515a5.cloudfront.net/topher/2017/September/59ad9909_31-sunset-boulevard-film/31-sunset-boulevard-film.txt',\n",
    "                     'https://d17h27t6h515a5.cloudfront.net/topher/2017/September/59ad990a_32-king-kong-1933-film/32-king-kong-1933-film.txt',\n",
    "                     'https://d17h27t6h515a5.cloudfront.net/topher/2017/September/59ad990a_33-spotlight-film/33-spotlight-film.txt',\n",
    "                     'https://d17h27t6h515a5.cloudfront.net/topher/2017/September/59ad990a_34-the-adventures-of-robin-hood/34-the-adventures-of-robin-hood.txt',\n",
    "                     'https://d17h27t6h515a5.cloudfront.net/topher/2017/September/59ad990b_35-rashomon/35-rashomon.txt',\n",
    "                     'https://d17h27t6h515a5.cloudfront.net/topher/2017/September/59ad990b_36-rear-window/36-rear-window.txt',\n",
    "                     'https://d17h27t6h515a5.cloudfront.net/topher/2017/September/59ad990b_37-selma-film/37-selma-film.txt',\n",
    "                     'https://d17h27t6h515a5.cloudfront.net/topher/2017/September/59ad990c_38-taxi-driver/38-taxi-driver.txt',\n",
    "                     'https://d17h27t6h515a5.cloudfront.net/topher/2017/September/59ad990c_39-toy-story-3/39-toy-story-3.txt',\n",
    "                     'https://d17h27t6h515a5.cloudfront.net/topher/2017/September/59ad990c_40-argo-2012-film/40-argo-2012-film.txt',\n",
    "                     'https://d17h27t6h515a5.cloudfront.net/topher/2017/September/59ad990d_41-toy-story-2/41-toy-story-2.txt',\n",
    "                     'https://d17h27t6h515a5.cloudfront.net/topher/2017/September/59ad990d_42-the-big-sick/42-the-big-sick.txt',\n",
    "                     'https://d17h27t6h515a5.cloudfront.net/topher/2017/September/59ad990d_43-bride-of-frankenstein/43-bride-of-frankenstein.txt',\n",
    "                     'https://d17h27t6h515a5.cloudfront.net/topher/2017/September/59ad990d_44-zootopia/44-zootopia.txt',\n",
    "                     'https://d17h27t6h515a5.cloudfront.net/topher/2017/September/59ad990e_45-m-1931-film/45-m-1931-film.txt',\n",
    "                     'https://d17h27t6h515a5.cloudfront.net/topher/2017/September/59ad990e_46-wonder-woman-2017-film/46-wonder-woman-2017-film.txt',\n",
    "                     'https://d17h27t6h515a5.cloudfront.net/topher/2017/September/59ad990e_48-alien-film/48-alien-film.txt',\n",
    "                     'https://d17h27t6h515a5.cloudfront.net/topher/2017/September/59ad990f_49-bicycle-thieves/49-bicycle-thieves.txt',\n",
    "                     'https://d17h27t6h515a5.cloudfront.net/topher/2017/September/59ad990f_50-seven-samurai/50-seven-samurai.txt',\n",
    "                     'https://d17h27t6h515a5.cloudfront.net/topher/2017/September/59ad990f_51-the-treasure-of-the-sierra-madre-film/51-the-treasure-of-the-sierra-madre-film.txt',\n",
    "                     'https://d17h27t6h515a5.cloudfront.net/topher/2017/September/59ad9910_52-up-2009-film/52-up-2009-film.txt',\n",
    "                     'https://d17h27t6h515a5.cloudfront.net/topher/2017/September/59ad9910_53-12-angry-men-1957-film/53-12-angry-men-1957-film.txt',\n",
    "                     'https://d17h27t6h515a5.cloudfront.net/topher/2017/September/59ad9910_54-the-400-blows/54-the-400-blows.txt',\n",
    "                     'https://d17h27t6h515a5.cloudfront.net/topher/2017/September/59ad9911_55-logan-film/55-logan-film.txt',\n",
    "                     'https://d17h27t6h515a5.cloudfront.net/topher/2017/September/59ad9911_57-army-of-shadows/57-army-of-shadows.txt',\n",
    "                     'https://d17h27t6h515a5.cloudfront.net/topher/2017/September/59ad9912_58-arrival-film/58-arrival-film.txt',\n",
    "                     'https://d17h27t6h515a5.cloudfront.net/topher/2017/September/59ad9912_59-baby-driver/59-baby-driver.txt',\n",
    "                     'https://d17h27t6h515a5.cloudfront.net/topher/2017/September/59ad9913_60-a-streetcar-named-desire-1951-film/60-a-streetcar-named-desire-1951-film.txt',\n",
    "                     'https://d17h27t6h515a5.cloudfront.net/topher/2017/September/59ad9913_61-the-night-of-the-hunter-film/61-the-night-of-the-hunter-film.txt',\n",
    "                     'https://d17h27t6h515a5.cloudfront.net/topher/2017/September/59ad9913_62-star-wars-the-force-awakens/62-star-wars-the-force-awakens.txt',\n",
    "                     'https://d17h27t6h515a5.cloudfront.net/topher/2017/September/59ad9913_63-manchester-by-the-sea-film/63-manchester-by-the-sea-film.txt',\n",
    "                     'https://d17h27t6h515a5.cloudfront.net/topher/2017/September/59ad9914_64-dr.-strangelove/64-dr.-strangelove.txt',\n",
    "                     'https://d17h27t6h515a5.cloudfront.net/topher/2017/September/59ad9914_66-vertigo-film/66-vertigo-film.txt',\n",
    "                     'https://d17h27t6h515a5.cloudfront.net/topher/2017/September/59ad9914_67-the-dark-knight-film/67-the-dark-knight-film.txt',\n",
    "                     'https://d17h27t6h515a5.cloudfront.net/topher/2017/September/59ad9915_68-touch-of-evil/68-touch-of-evil.txt',\n",
    "                     'https://d17h27t6h515a5.cloudfront.net/topher/2017/September/59ad9915_69-the-babadook/69-the-babadook.txt',\n",
    "                     'https://d17h27t6h515a5.cloudfront.net/topher/2017/September/59ad9915_72-rosemary27s-baby-film/72-rosemary27s-baby-film.txt',\n",
    "                     'https://d17h27t6h515a5.cloudfront.net/topher/2017/September/59ad9916_73-finding-nemo/73-finding-nemo.txt',\n",
    "                     'https://d17h27t6h515a5.cloudfront.net/topher/2017/September/59ad9916_74-brooklyn-film/74-brooklyn-film.txt',\n",
    "                     'https://d17h27t6h515a5.cloudfront.net/topher/2017/September/59ad9917_75-the-wrestler-2008-film/75-the-wrestler-2008-film.txt',\n",
    "                     'https://d17h27t6h515a5.cloudfront.net/topher/2017/September/59ad9917_77-l.a.-confidential-film/77-l.a.-confidential-film.txt',\n",
    "                     'https://d17h27t6h515a5.cloudfront.net/topher/2017/September/59ad9918_78-gone-with-the-wind-film/78-gone-with-the-wind-film.txt',\n",
    "                     'https://d17h27t6h515a5.cloudfront.net/topher/2017/September/59ad9918_79-the-good-the-bad-and-the-ugly/79-the-good-the-bad-and-the-ugly.txt',\n",
    "                     'https://d17h27t6h515a5.cloudfront.net/topher/2017/September/59ad9918_80-skyfall/80-skyfall.txt',\n",
    "                     'https://d17h27t6h515a5.cloudfront.net/topher/2017/September/59ad9919_82-tokyo-story/82-tokyo-story.txt',\n",
    "                     'https://d17h27t6h515a5.cloudfront.net/topher/2017/September/59ad9919_83-hell-or-high-water-film/83-hell-or-high-water-film.txt',\n",
    "                     'https://d17h27t6h515a5.cloudfront.net/topher/2017/September/59ad9919_84-pinocchio-1940-film/84-pinocchio-1940-film.txt',\n",
    "                     'https://d17h27t6h515a5.cloudfront.net/topher/2017/September/59ad9919_85-the-jungle-book-2016-film/85-the-jungle-book-2016-film.txt',\n",
    "                     'https://d17h27t6h515a5.cloudfront.net/topher/2017/September/59ad991a_86-la-la-land-film/86-la-la-land-film.txt',\n",
    "                     'https://d17h27t6h515a5.cloudfront.net/topher/2017/September/59ad991b_87-star-trek-film/87-star-trek-film.txt',\n",
    "                     'https://d17h27t6h515a5.cloudfront.net/topher/2017/September/59ad991b_89-apocalypse-now/89-apocalypse-now.txt',\n",
    "                     'https://d17h27t6h515a5.cloudfront.net/topher/2017/September/59ad991c_90-on-the-waterfront/90-on-the-waterfront.txt',\n",
    "                     'https://d17h27t6h515a5.cloudfront.net/topher/2017/September/59ad991c_91-the-wages-of-fear/91-the-wages-of-fear.txt',\n",
    "                     'https://d17h27t6h515a5.cloudfront.net/topher/2017/September/59ad991c_92-the-last-picture-show/92-the-last-picture-show.txt',\n",
    "                     'https://d17h27t6h515a5.cloudfront.net/topher/2017/September/59ad991d_93-harry-potter-and-the-deathly-hallows-part-2/93-harry-potter-and-the-deathly-hallows-part-2.txt',\n",
    "                     'https://d17h27t6h515a5.cloudfront.net/topher/2017/September/59ad991d_94-the-grapes-of-wrath-film/94-the-grapes-of-wrath-film.txt',\n",
    "                     'https://d17h27t6h515a5.cloudfront.net/topher/2017/September/59ad991d_96-man-on-wire/96-man-on-wire.txt',\n",
    "                     'https://d17h27t6h515a5.cloudfront.net/topher/2017/September/59ad991e_97-jaws-film/97-jaws-film.txt',\n",
    "                     'https://d17h27t6h515a5.cloudfront.net/topher/2017/September/59ad991e_98-toy-story/98-toy-story.txt',\n",
    "                     'https://d17h27t6h515a5.cloudfront.net/topher/2017/September/59ad991e_99-the-godfather-part-ii/99-the-godfather-part-ii.txt',\n",
    "                     'https://d17h27t6h515a5.cloudfront.net/topher/2017/September/59ad991e_100-battleship-potemkin/100-battleship-potemkin.txt']\n",
    "\n"
   ]
  },
  {
   "cell_type": "code",
   "execution_count": 9,
   "id": "a0db5e41",
   "metadata": {
    "ExecuteTime": {
     "end_time": "2022-12-07T22:07:24.034192Z",
     "start_time": "2022-12-07T22:07:13.879259Z"
    }
   },
   "outputs": [],
   "source": [
    "for url in ebert_review_urls:\n",
    "    response = requests.get(url)\n",
    "    with open(os.path.join(new_folder, url.split(\"/\")[-1]), mode = \"wb\") as file:\n",
    "        file.write(response.content)"
   ]
  },
  {
   "cell_type": "markdown",
   "id": "730c2424",
   "metadata": {},
   "source": [
    "## opening and reading files"
   ]
  },
  {
   "cell_type": "markdown",
   "id": "69e05b51",
   "metadata": {
    "ExecuteTime": {
     "end_time": "2022-12-07T19:17:09.260003Z",
     "start_time": "2022-12-07T19:17:09.250999Z"
    }
   },
   "source": [
    "- Using glob directory\n",
    "- Always use Encoding\n",
    "- Reading file line by line by using readline() or reading entire file by using read()"
   ]
  },
  {
   "cell_type": "code",
   "execution_count": 10,
   "id": "0922ddc9",
   "metadata": {
    "ExecuteTime": {
     "end_time": "2022-12-07T22:07:24.049202Z",
     "start_time": "2022-12-07T22:07:24.039258Z"
    }
   },
   "outputs": [],
   "source": [
    "import glob"
   ]
  },
  {
   "cell_type": "code",
   "execution_count": 11,
   "id": "783bbb81",
   "metadata": {
    "ExecuteTime": {
     "end_time": "2022-12-07T22:07:24.280880Z",
     "start_time": "2022-12-07T22:07:24.050199Z"
    }
   },
   "outputs": [
    {
     "data": {
      "text/html": [
       "<div>\n",
       "<style scoped>\n",
       "    .dataframe tbody tr th:only-of-type {\n",
       "        vertical-align: middle;\n",
       "    }\n",
       "\n",
       "    .dataframe tbody tr th {\n",
       "        vertical-align: top;\n",
       "    }\n",
       "\n",
       "    .dataframe thead th {\n",
       "        text-align: right;\n",
       "    }\n",
       "</style>\n",
       "<table border=\"1\" class=\"dataframe\">\n",
       "  <thead>\n",
       "    <tr style=\"text-align: right;\">\n",
       "      <th></th>\n",
       "      <th>title</th>\n",
       "      <th>review_url</th>\n",
       "      <th>review_text</th>\n",
       "    </tr>\n",
       "  </thead>\n",
       "  <tbody>\n",
       "    <tr>\n",
       "      <th>0</th>\n",
       "      <td>The Wizard of Oz (1939)</td>\n",
       "      <td>http://www.rogerebert.com/reviews/great-movie-...</td>\n",
       "      <td>As a child I simply did not notice whether a m...</td>\n",
       "    </tr>\n",
       "    <tr>\n",
       "      <th>1</th>\n",
       "      <td>Metropolis (1927)</td>\n",
       "      <td>http://www.rogerebert.com/reviews/great-movie-...</td>\n",
       "      <td>The opening shots of the restored “Metropolis”...</td>\n",
       "    </tr>\n",
       "    <tr>\n",
       "      <th>2</th>\n",
       "      <td>Battleship Potemkin (1925)</td>\n",
       "      <td>http://www.rogerebert.com/reviews/great-movie-...</td>\n",
       "      <td>\"The Battleship Potemkin” has been so famous f...</td>\n",
       "    </tr>\n",
       "    <tr>\n",
       "      <th>3</th>\n",
       "      <td>E.T. The Extra-Terrestrial (1982)</td>\n",
       "      <td>http://www.rogerebert.com/reviews/great-movie-...</td>\n",
       "      <td>Dear Raven and Emil:\\n\\nSunday we sat on the b...</td>\n",
       "    </tr>\n",
       "    <tr>\n",
       "      <th>4</th>\n",
       "      <td>Modern Times (1936)</td>\n",
       "      <td>http://www.rogerebert.com/reviews/modern-times...</td>\n",
       "      <td>A lot of movies are said to be timeless, but s...</td>\n",
       "    </tr>\n",
       "    <tr>\n",
       "      <th>...</th>\n",
       "      <td>...</td>\n",
       "      <td>...</td>\n",
       "      <td>...</td>\n",
       "    </tr>\n",
       "    <tr>\n",
       "      <th>83</th>\n",
       "      <td>The Grapes of Wrath (1940)</td>\n",
       "      <td>http://www.rogerebert.com/reviews/great-movie-...</td>\n",
       "      <td>John Ford's \"The Grapes of Wrath\" is a left-wi...</td>\n",
       "    </tr>\n",
       "    <tr>\n",
       "      <th>84</th>\n",
       "      <td>Man on Wire (2008)</td>\n",
       "      <td>http://www.rogerebert.com/reviews/man-on-wire-...</td>\n",
       "      <td>I am afraid of heights. Now you know. That is ...</td>\n",
       "    </tr>\n",
       "    <tr>\n",
       "      <th>85</th>\n",
       "      <td>Jaws (1975)</td>\n",
       "      <td>http://www.rogerebert.com/reviews/great-movie-...</td>\n",
       "      <td>\"You're going to need a bigger boat.\"\\n\\nSo th...</td>\n",
       "    </tr>\n",
       "    <tr>\n",
       "      <th>86</th>\n",
       "      <td>Toy Story (1995)</td>\n",
       "      <td>http://www.rogerebert.com/reviews/toy-story-1995</td>\n",
       "      <td>\"Toy Story\" creates a universe out of a couple...</td>\n",
       "    </tr>\n",
       "    <tr>\n",
       "      <th>87</th>\n",
       "      <td>The Godfather, Part II (1974)</td>\n",
       "      <td>http://www.rogerebert.com/reviews/great-movie-...</td>\n",
       "      <td>The musical score plays an even greater role i...</td>\n",
       "    </tr>\n",
       "  </tbody>\n",
       "</table>\n",
       "<p>88 rows × 3 columns</p>\n",
       "</div>"
      ],
      "text/plain": [
       "                                title  \\\n",
       "0             The Wizard of Oz (1939)   \n",
       "1                   Metropolis (1927)   \n",
       "2          Battleship Potemkin (1925)   \n",
       "3   E.T. The Extra-Terrestrial (1982)   \n",
       "4                 Modern Times (1936)   \n",
       "..                                ...   \n",
       "83         The Grapes of Wrath (1940)   \n",
       "84                 Man on Wire (2008)   \n",
       "85                        Jaws (1975)   \n",
       "86                   Toy Story (1995)   \n",
       "87      The Godfather, Part II (1974)   \n",
       "\n",
       "                                           review_url  \\\n",
       "0   http://www.rogerebert.com/reviews/great-movie-...   \n",
       "1   http://www.rogerebert.com/reviews/great-movie-...   \n",
       "2   http://www.rogerebert.com/reviews/great-movie-...   \n",
       "3   http://www.rogerebert.com/reviews/great-movie-...   \n",
       "4   http://www.rogerebert.com/reviews/modern-times...   \n",
       "..                                                ...   \n",
       "83  http://www.rogerebert.com/reviews/great-movie-...   \n",
       "84  http://www.rogerebert.com/reviews/man-on-wire-...   \n",
       "85  http://www.rogerebert.com/reviews/great-movie-...   \n",
       "86   http://www.rogerebert.com/reviews/toy-story-1995   \n",
       "87  http://www.rogerebert.com/reviews/great-movie-...   \n",
       "\n",
       "                                          review_text  \n",
       "0   As a child I simply did not notice whether a m...  \n",
       "1   The opening shots of the restored “Metropolis”...  \n",
       "2   \"The Battleship Potemkin” has been so famous f...  \n",
       "3   Dear Raven and Emil:\\n\\nSunday we sat on the b...  \n",
       "4   A lot of movies are said to be timeless, but s...  \n",
       "..                                                ...  \n",
       "83  John Ford's \"The Grapes of Wrath\" is a left-wi...  \n",
       "84  I am afraid of heights. Now you know. That is ...  \n",
       "85  \"You're going to need a bigger boat.\"\\n\\nSo th...  \n",
       "86  \"Toy Story\" creates a universe out of a couple...  \n",
       "87  The musical score plays an even greater role i...  \n",
       "\n",
       "[88 rows x 3 columns]"
      ]
     },
     "execution_count": 11,
     "metadata": {},
     "output_type": "execute_result"
    }
   ],
   "source": [
    "# Creating list of dictionary to build file by file and later convert to pandas data frame\n",
    "new_folder = []\n",
    "for ebert_review in glob.glob(\"ebert_reviews/*.txt\"):\n",
    "    with open(ebert_review, encoding = \"utf-8\") as file:\n",
    "        title = file.readline()[:-1]\n",
    "        url = file.readline()[:-1]\n",
    "        review_text = file.read()\n",
    "        \n",
    "        # Append this to the empty list created\n",
    "        new_folder.append({\"title\": title,\n",
    "                          \"review_url\": url,\n",
    "                          \"review_text\": review_text})\n",
    "df = pd.DataFrame(new_folder, columns=[\"title\",\"review_url\",\"review_text\"])\n",
    "df"
   ]
  },
  {
   "cell_type": "markdown",
   "id": "beec8be3",
   "metadata": {},
   "source": [
    "## Extracting data using API- Application programming interface"
   ]
  },
  {
   "cell_type": "code",
   "execution_count": 12,
   "id": "bc59e6df",
   "metadata": {
    "ExecuteTime": {
     "end_time": "2022-12-07T22:07:26.305518Z",
     "start_time": "2022-12-07T22:07:24.281872Z"
    }
   },
   "outputs": [
    {
     "name": "stdout",
     "output_type": "stream",
     "text": [
      "Requirement already satisfied: wptools in c:\\users\\deepa\\.vscode\\anaconda\\lib\\site-packages (0.4.17)Note: you may need to restart the kernel to use updated packages.\n",
      "Requirement already satisfied: html2text in c:\\users\\deepa\\.vscode\\anaconda\\lib\\site-packages (from wptools) (2020.1.16)\n",
      "Requirement already satisfied: pycurl in c:\\users\\deepa\\.vscode\\anaconda\\lib\\site-packages (from wptools) (7.44.1)\n",
      "Requirement already satisfied: lxml in c:\\users\\deepa\\.vscode\\anaconda\\lib\\site-packages (from wptools) (4.8.0)\n",
      "Requirement already satisfied: certifi in c:\\users\\deepa\\.vscode\\anaconda\\lib\\site-packages (from wptools) (2022.12.7)\n",
      "\n"
     ]
    }
   ],
   "source": [
    "pip install wptools"
   ]
  },
  {
   "cell_type": "code",
   "execution_count": 13,
   "id": "53958d6d",
   "metadata": {
    "ExecuteTime": {
     "end_time": "2022-12-07T22:07:27.167033Z",
     "start_time": "2022-12-07T22:07:26.306518Z"
    }
   },
   "outputs": [],
   "source": [
    "# importing wptool to gain API access from wikipedia\n",
    "import wptools"
   ]
  },
  {
   "cell_type": "code",
   "execution_count": 119,
   "id": "0127dba0",
   "metadata": {
    "ExecuteTime": {
     "end_time": "2022-12-08T21:15:28.751303Z",
     "start_time": "2022-12-08T21:15:24.985045Z"
    }
   },
   "outputs": [
    {
     "name": "stderr",
     "output_type": "stream",
     "text": [
      "en.wikipedia.org (query) It_Happened_One_Night\n",
      "en.wikipedia.org (parse) 44696\n",
      "www.wikidata.org (wikidata) Q208632\n",
      "www.wikidata.org (labels) P214|Q194383|Q95415779|Q459580|P272|Q19...\n",
      "www.wikidata.org (labels) P9584|P7970|P1237|P3933|P8411|P136|Q960...\n",
      "www.wikidata.org (labels) P268|P6706|Q438865|P1417|P9586|P166|P50...\n",
      "www.wikidata.org (labels) P3135|P2509|Q102427|P8296|Q2045706|P320...\n",
      "en.wikipedia.org (restbase) /page/summary/It_Happened_One_Night\n",
      "en.wikipedia.org (imageinfo) File:It-happened-one-night-poster.jp...\n",
      "It Happened One Night (en) data\n",
      "{\n",
      "  WARNINGS: <dict(1)> extracts\n",
      "  aliases: <list(1)> Night Bus\n",
      "  assessments: <dict(5)> United States, Film, Comedy, Romance, Lib...\n",
      "  claims: <dict(105)> P31, P86, P57, P162, P161, P344, P345, P373,...\n",
      "  description: 1934 film by Frank Capra\n",
      "  exhtml: <str(737)> <p><i><b>It Happened One Night</b></i> is a 1...\n",
      "  exrest: <str(709)> It Happened One Night is a 1934 pre-Code Amer...\n",
      "  extext: <str(1329)> _**It Happened One Night**_ is a 1934 pre-Co...\n",
      "  extract: <str(1413)> <p class=\"mw-empty-elt\"></p><p><i><b>It Hap...\n",
      "  image: <list(6)> {'kind': 'query-pageimage', 'file': 'File:It-ha...\n",
      "  infobox: <dict(18)> name, image, caption, director, producer, sc...\n",
      "  iwlinks: <list(1)> https://en.wikiquote.org/wiki/Special:Search/...\n",
      "  label: It Happened One Night\n",
      "  labels: <dict(169)> P214, Q194383, Q95415779, Q459580, P272, Q19...\n",
      "  length: 40,883\n",
      "  links: <list(392)> 12 Years a Slave (film), 4K resolution, 7th A...\n",
      "  modified: <dict(2)> page, wikidata\n",
      "  pageid: 44696\n",
      "  parsetree: <str(51757)> <root><template><title>short description...\n",
      "  random: Sue Golding\n",
      "  redirects: <list(2)> {'pageid': 5083183, 'ns': 0, 'title': 'It h...\n",
      "  requests: <list(9)> query, parse, wikidata, labels, labels, labe...\n",
      "  title: It_Happened_One_Night\n",
      "  url: https://en.wikipedia.org/wiki/It_Happened_One_Night\n",
      "  url_raw: https://en.wikipedia.org/wiki/It_Happened_One_Night?act...\n",
      "  watchers: 133\n",
      "  what: film\n",
      "  wikibase: Q208632\n",
      "  wikidata: <dict(105)> instance of (P31), composer (P86), directo...\n",
      "  wikidata_pageid: 204598\n",
      "  wikidata_url: https://www.wikidata.org/wiki/Q208632\n",
      "  wikitext: <str(40604)> {{short description|1934 film by Frank Ca...\n",
      "}\n"
     ]
    },
    {
     "data": {
      "text/plain": [
       "[{'kind': 'query-pageimage',\n",
       "  'file': 'File:It-happened-one-night-poster.jpg',\n",
       "  'orig': 'It-happened-one-night-poster.jpg',\n",
       "  'timestamp': '2018-07-28T04:56:58Z',\n",
       "  'size': 174351,\n",
       "  'width': 806,\n",
       "  'height': 1200,\n",
       "  'url': 'https://upload.wikimedia.org/wikipedia/commons/d/dc/It-happened-one-night-poster.jpg',\n",
       "  'descriptionurl': 'https://commons.wikimedia.org/wiki/File:It-happened-one-night-poster.jpg',\n",
       "  'descriptionshorturl': 'https://commons.wikimedia.org/w/index.php?curid=71153634',\n",
       "  'title': 'File:It-happened-one-night-poster.jpg',\n",
       "  'metadata': {'DateTime': {'value': '2018-07-28 04:56:58',\n",
       "    'source': 'mediawiki-metadata',\n",
       "    'hidden': ''},\n",
       "   'ObjectName': {'value': 'It-happened-one-night-poster',\n",
       "    'source': 'mediawiki-metadata',\n",
       "    'hidden': ''},\n",
       "   'CommonsMetadataExtension': {'value': 1.2,\n",
       "    'source': 'extension',\n",
       "    'hidden': ''},\n",
       "   'Categories': {'value': 'Clark Gable in 1934|Claudette Colbert|Film posters of the United States, 1934|Images with extracted images|It Happened One Night (film)|PD US not renewed',\n",
       "    'source': 'commons-categories',\n",
       "    'hidden': ''},\n",
       "   'Assessments': {'value': '', 'source': 'commons-categories', 'hidden': ''},\n",
       "   'ImageDescription': {'value': 'Original movie poster for the American film <i><a href=\"https://en.wikipedia.org/wiki/It_Happened_One_Night\" class=\"extiw\" title=\"en:It Happened One Night\">It Happened One Night</a></i> (1934), directed by <a href=\"https://en.wikipedia.org/wiki/Frank_Capra\" class=\"extiw\" title=\"en:Frank Capra\">Frank Capra</a>.',\n",
       "    'source': 'commons-desc-page'},\n",
       "   'DateTimeOriginal': {'value': '1934-01-19', 'source': 'commons-desc-page'},\n",
       "   'Credit': {'value': '<a rel=\"nofollow\" class=\"external text\" href=\"https://www.imdb.com/title/tt0025316/\">imdb</a>',\n",
       "    'source': 'commons-desc-page',\n",
       "    'hidden': ''},\n",
       "   'Artist': {'value': 'Columbia Pictures Corp.',\n",
       "    'source': 'commons-desc-page'},\n",
       "   'LicenseShortName': {'value': 'Public domain',\n",
       "    'source': 'commons-desc-page',\n",
       "    'hidden': ''},\n",
       "   'UsageTerms': {'value': 'Public domain',\n",
       "    'source': 'commons-desc-page',\n",
       "    'hidden': ''},\n",
       "   'AttributionRequired': {'value': 'false',\n",
       "    'source': 'commons-desc-page',\n",
       "    'hidden': ''},\n",
       "   'Copyrighted': {'value': 'False',\n",
       "    'source': 'commons-desc-page',\n",
       "    'hidden': ''},\n",
       "   'Restrictions': {'value': '', 'source': 'commons-desc-page', 'hidden': ''},\n",
       "   'License': {'value': 'pd', 'source': 'commons-templates', 'hidden': ''}}},\n",
       " {'kind': 'query-thumbnail',\n",
       "  'width': 240,\n",
       "  'height': 357,\n",
       "  'url': 'https://upload.wikimedia.org/wikipedia/commons/thumb/d/dc/It-happened-one-night-poster.jpg/240px-It-happened-one-night-poster.jpg',\n",
       "  'file': 'File:It-happened-one-night-poster.jpg',\n",
       "  'orig': 'It-happened-one-night-poster.jpg'},\n",
       " {'kind': 'parse-image',\n",
       "  'file': 'File:It-happened-one-night-poster.jpg',\n",
       "  'orig': 'It-happened-one-night-poster.jpg',\n",
       "  'timestamp': '2018-07-28T04:56:58Z',\n",
       "  'size': 174351,\n",
       "  'width': 806,\n",
       "  'height': 1200,\n",
       "  'url': 'https://upload.wikimedia.org/wikipedia/commons/d/dc/It-happened-one-night-poster.jpg',\n",
       "  'descriptionurl': 'https://commons.wikimedia.org/wiki/File:It-happened-one-night-poster.jpg',\n",
       "  'descriptionshorturl': 'https://commons.wikimedia.org/w/index.php?curid=71153634',\n",
       "  'title': 'File:It-happened-one-night-poster.jpg',\n",
       "  'metadata': {'DateTime': {'value': '2018-07-28 04:56:58',\n",
       "    'source': 'mediawiki-metadata',\n",
       "    'hidden': ''},\n",
       "   'ObjectName': {'value': 'It-happened-one-night-poster',\n",
       "    'source': 'mediawiki-metadata',\n",
       "    'hidden': ''},\n",
       "   'CommonsMetadataExtension': {'value': 1.2,\n",
       "    'source': 'extension',\n",
       "    'hidden': ''},\n",
       "   'Categories': {'value': 'Clark Gable in 1934|Claudette Colbert|Film posters of the United States, 1934|Images with extracted images|It Happened One Night (film)|PD US not renewed',\n",
       "    'source': 'commons-categories',\n",
       "    'hidden': ''},\n",
       "   'Assessments': {'value': '', 'source': 'commons-categories', 'hidden': ''},\n",
       "   'ImageDescription': {'value': 'Original movie poster for the American film <i><a href=\"https://en.wikipedia.org/wiki/It_Happened_One_Night\" class=\"extiw\" title=\"en:It Happened One Night\">It Happened One Night</a></i> (1934), directed by <a href=\"https://en.wikipedia.org/wiki/Frank_Capra\" class=\"extiw\" title=\"en:Frank Capra\">Frank Capra</a>.',\n",
       "    'source': 'commons-desc-page'},\n",
       "   'DateTimeOriginal': {'value': '1934-01-19', 'source': 'commons-desc-page'},\n",
       "   'Credit': {'value': '<a rel=\"nofollow\" class=\"external text\" href=\"https://www.imdb.com/title/tt0025316/\">imdb</a>',\n",
       "    'source': 'commons-desc-page',\n",
       "    'hidden': ''},\n",
       "   'Artist': {'value': 'Columbia Pictures Corp.',\n",
       "    'source': 'commons-desc-page'},\n",
       "   'LicenseShortName': {'value': 'Public domain',\n",
       "    'source': 'commons-desc-page',\n",
       "    'hidden': ''},\n",
       "   'UsageTerms': {'value': 'Public domain',\n",
       "    'source': 'commons-desc-page',\n",
       "    'hidden': ''},\n",
       "   'AttributionRequired': {'value': 'false',\n",
       "    'source': 'commons-desc-page',\n",
       "    'hidden': ''},\n",
       "   'Copyrighted': {'value': 'False',\n",
       "    'source': 'commons-desc-page',\n",
       "    'hidden': ''},\n",
       "   'Restrictions': {'value': '', 'source': 'commons-desc-page', 'hidden': ''},\n",
       "   'License': {'value': 'pd', 'source': 'commons-templates', 'hidden': ''}}},\n",
       " {'file': 'File:Clark Gable and Claudette Colbert in It Happened One Night.jpg',\n",
       "  'kind': 'wikidata-image',\n",
       "  'orig': 'Clark Gable and Claudette Colbert in It Happened One Night.jpg',\n",
       "  'timestamp': '2021-12-29T04:03:24Z',\n",
       "  'size': 346468,\n",
       "  'width': 1638,\n",
       "  'height': 1200,\n",
       "  'url': 'https://upload.wikimedia.org/wikipedia/commons/8/8d/Clark_Gable_and_Claudette_Colbert_in_It_Happened_One_Night.jpg',\n",
       "  'descriptionurl': 'https://commons.wikimedia.org/wiki/File:Clark_Gable_and_Claudette_Colbert_in_It_Happened_One_Night.jpg',\n",
       "  'descriptionshorturl': 'https://commons.wikimedia.org/w/index.php?curid=113768955',\n",
       "  'title': 'File:Clark Gable and Claudette Colbert in It Happened One Night.jpg',\n",
       "  'metadata': {'DateTime': {'value': '2021-12-29 04:03:24',\n",
       "    'source': 'mediawiki-metadata',\n",
       "    'hidden': ''},\n",
       "   'ObjectName': {'value': 'Clark Gable and Claudette Colbert in It Happened One Night',\n",
       "    'source': 'mediawiki-metadata',\n",
       "    'hidden': ''},\n",
       "   'CommonsMetadataExtension': {'value': 1.2,\n",
       "    'source': 'extension',\n",
       "    'hidden': ''},\n",
       "   'Categories': {'value': '1934 portrait photographs of men|CC-PD-Mark|Clark Gable|Claudette Colbert|It Happened One Night (film)|PD Old|PD US no notice|Template Unknown (author)',\n",
       "    'source': 'commons-categories',\n",
       "    'hidden': ''},\n",
       "   'Assessments': {'value': '', 'source': 'commons-categories', 'hidden': ''},\n",
       "   'ImageDescription': {'value': 'Clark Gable and Claudette Colbert in <i>It Happened One Night</i> (1934) publicity still.',\n",
       "    'source': 'commons-desc-page'},\n",
       "   'DateTimeOriginal': {'value': '1934', 'source': 'commons-desc-page'},\n",
       "   'Credit': {'value': '<a rel=\"nofollow\" class=\"external text\" href=\"https://www.filmaffinity.com/ar/film118834.html\">FilmAffinity</a>',\n",
       "    'source': 'commons-desc-page',\n",
       "    'hidden': ''},\n",
       "   'Artist': {'value': 'Unknown author<span style=\"display: none;\">Unknown author</span>',\n",
       "    'source': 'commons-desc-page'},\n",
       "   'Permission': {'value': 'This is a <a href=\"https://en.wikipedia.org/wiki/en:Publicity_still\" class=\"extiw\" title=\"w:en:Publicity still\">publicity still</a> taken and publicly distributed to promote the subject or a work relating to the subject.\\n<ul><li>As stated by film production expert Eve Light Honathaner in <i>The Complete Film Production Handbook</i> (Focal Press, 2001, p. 211.):<br>\"Publicity photos (star headshots) have traditionally not been copyrighted. Since they are disseminated to the public, they are generally considered public domain, and therefore clearance by the studio that produced them is not necessary.\"</li>\\n<li>Nancy Wolff, in <i>The Professional Photographer\\'s Legal Handbook</i> (Allworth Communications, 2007, p. 55.), notes:<br>\"There is a vast body of photographs, including but not limited to publicity stills, that have no notice as to who may have created them.\"</li>\\n<li>Film industry author Gerald Mast, in <i>Film Study and the Copyright Law</i> (1989, p. 87), writes:<br>\"According to the old copyright act, such production stills were not automatically copyrighted as part of the film and required separate copyrights as photographic stills. The new copyright act similarly excludes the production still from automatic copyright but gives the film\\'s copyright owner a five-year period in which to copyright the stills. Most studios have never bothered to copyright these stills because they were happy to see them pass into the public domain, to be used by as many people in as many publications as possible.\"</li>\\n<li>Kristin Thompson, committee chairperson of the Society for <a rel=\"nofollow\" class=\"external text\" href=\"//cmstudies.org\">Cinema and Media Studies</a> writes in the conclusion of a 1993 conference of cinema scholars and editors<a rel=\"nofollow\" class=\"external autonumber\" href=\"//web.archive.org/web/20131004004521/http://chnm.gmu.edu/digitalhistory/links/cached/chapter7/link7.59b.fairusageandfilmstills.html\">[1]</a>, that:<br>\"[The conference] expressed the opinion that it is not necessary for authors to request permission to reproduce frame enlargements... [and] some trade presses that publish educational and scholarly film books also take the position that permission is not necessary for reproducing frame enlargements and publicity photographs.\"</li></ul>',\n",
       "    'source': 'commons-desc-page',\n",
       "    'hidden': ''},\n",
       "   'LicenseShortName': {'value': 'Public domain',\n",
       "    'source': 'commons-desc-page',\n",
       "    'hidden': ''},\n",
       "   'UsageTerms': {'value': 'Public domain',\n",
       "    'source': 'commons-desc-page',\n",
       "    'hidden': ''},\n",
       "   'AttributionRequired': {'value': 'false',\n",
       "    'source': 'commons-desc-page',\n",
       "    'hidden': ''},\n",
       "   'Copyrighted': {'value': 'False',\n",
       "    'source': 'commons-desc-page',\n",
       "    'hidden': ''},\n",
       "   'Restrictions': {'value': '', 'source': 'commons-desc-page', 'hidden': ''},\n",
       "   'License': {'value': 'pd', 'source': 'commons-templates', 'hidden': ''}}},\n",
       " {'kind': 'restbase-original',\n",
       "  'width': 806,\n",
       "  'height': 1200,\n",
       "  'url': 'https://upload.wikimedia.org/wikipedia/commons/d/dc/It-happened-one-night-poster.jpg',\n",
       "  'file': 'File:It-happened-one-night-poster.jpg',\n",
       "  'orig': 'It-happened-one-night-poster.jpg'},\n",
       " {'kind': 'restbase-thumb',\n",
       "  'width': 320,\n",
       "  'height': 476,\n",
       "  'url': 'https://upload.wikimedia.org/wikipedia/commons/thumb/d/dc/It-happened-one-night-poster.jpg/320px-It-happened-one-night-poster.jpg',\n",
       "  'file': 'File:320px-It-happened-one-night-poster.jpg',\n",
       "  'orig': '320px-It-happened-one-night-poster.jpg'}]"
      ]
     },
     "execution_count": 119,
     "metadata": {},
     "output_type": "execute_result"
    }
   ],
   "source": [
    "# Getting the text from the page and accessing the image out of it\n",
    "\n",
    "page = wptools.page('It_Happened_One_Night').get()\n",
    "page.data[\"image\"]"
   ]
  },
  {
   "cell_type": "code",
   "execution_count": 120,
   "id": "3d41e693",
   "metadata": {
    "ExecuteTime": {
     "end_time": "2022-12-08T21:15:28.767303Z",
     "start_time": "2022-12-08T21:15:28.753302Z"
    }
   },
   "outputs": [
    {
     "data": {
      "text/plain": [
       "'https://upload.wikimedia.org/wikipedia/commons/d/dc/It-happened-one-night-poster.jpg'"
      ]
     },
     "execution_count": 120,
     "metadata": {},
     "output_type": "execute_result"
    }
   ],
   "source": [
    "#import json\n",
    "import json\n",
    "# getting the image from json file\n",
    "image = page.data[\"image\"][2]\n",
    "image[\"url\"]\n"
   ]
  },
  {
   "cell_type": "code",
   "execution_count": 61,
   "id": "5f134d43",
   "metadata": {
    "ExecuteTime": {
     "end_time": "2022-12-07T23:14:58.059615Z",
     "start_time": "2022-12-07T23:14:58.042714Z"
    }
   },
   "outputs": [
    {
     "data": {
      "text/plain": [
       "'[[Steven Spielberg]]'"
      ]
     },
     "execution_count": 61,
     "metadata": {},
     "output_type": "execute_result"
    }
   ],
   "source": [
    "# Get the director name\n",
    "director_name = page.data[\"infobox\"][\"director\"]\n",
    "director_name"
   ]
  },
  {
   "cell_type": "code",
   "execution_count": null,
   "id": "3e28940b",
   "metadata": {
    "ExecuteTime": {
     "end_time": "2022-12-08T01:35:39.946245Z",
     "start_time": "2022-12-08T01:35:39.946245Z"
    }
   },
   "outputs": [],
   "source": [
    "error = ['The_Third_Man',\n",
    "'The_Cabinet_of_Dr._Caligari',\n",
    "'All_About_Eve',\n",
    "'Metropolis_(1927_film)',\n",
    "'It_Happened_One_Night',\n",
    "\"Singin'_in_the_Rain\",\n",
    "\"Boyhood_(film)\",\n",
    "'Psycho_(1960_film)',\n",
    "'Laura_(1944_film)',\n",
    "'A_Hard_Day%27s_Night_(film)',\n",
    "'La_Grande_Illusion',\n",
    "'North_by_Northwest',\n",
    "'The_Maltese_Falcon_(1941_film)',\n",
    "'Sunset_Boulevard_(film)',\n",
    "'The_Adventures_of_Robin_Hood',\n",
    "'Rashomon',\n",
    "'Argo_(2012_film)',\n",
    "'Bride_of_Frankenstein',\n",
    "'Wonder_Woman_(2017_film)',\n",
    "'Seven_Samurai',\n",
    "'The_Treasure_of_the_Sierra_Madre_(film)',\n",
    "'All_Quiet_on_the_Western_Front_(1930_film)',\n",
    "'Army_of_Shadows',\n",
    "'A_Streetcar_Named_Desire_(1951_film)',\n",
    "'The_Night_of_the_Hunter_(film)',\n",
    "'Frankenstein_(1931_film)',\n",
    "'Touch_of_Evil',\n",
    "'Rebecca_(1940_film)',\n",
    "'Rosemary%27s_Baby_(film)',\n",
    "'Tokyo_Story',\n",
    "'High_Noon',\n",
    "'On_the_Waterfront',\n",
    "'The_Grapes_of_Wrath_(film)',\n",
    "'Man_on_Wire',\n",
    "'Jaws_(film)',\n",
    "'Battleship_Potemkin']\n",
    "for i in error:\n",
    "    page = wptools.page(i).get()\n",
    "    images = page.data[\"image\"][2]\n",
    "# getting the image from json file\n",
    "\n",
    "print(i + \":\" + \"url\" + \"=\" + images[\"url\"])"
   ]
  },
  {
   "cell_type": "code",
   "execution_count": null,
   "id": "2fa6d05d",
   "metadata": {},
   "outputs": [],
   "source": []
  }
 ],
 "metadata": {
  "kernelspec": {
   "display_name": "Python 3 (ipykernel)",
   "language": "python",
   "name": "python3"
  },
  "language_info": {
   "codemirror_mode": {
    "name": "ipython",
    "version": 3
   },
   "file_extension": ".py",
   "mimetype": "text/x-python",
   "name": "python",
   "nbconvert_exporter": "python",
   "pygments_lexer": "ipython3",
   "version": "3.9.12"
  },
  "toc": {
   "base_numbering": 1,
   "nav_menu": {},
   "number_sections": true,
   "sideBar": true,
   "skip_h1_title": false,
   "title_cell": "Table of Contents",
   "title_sidebar": "Contents",
   "toc_cell": false,
   "toc_position": {},
   "toc_section_display": true,
   "toc_window_display": false
  }
 },
 "nbformat": 4,
 "nbformat_minor": 5
}
